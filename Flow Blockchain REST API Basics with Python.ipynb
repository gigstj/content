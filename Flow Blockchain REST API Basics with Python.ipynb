{
 "cells": [
  {
   "attachments": {},
   "cell_type": "markdown",
   "metadata": {},
   "source": [
    "Operating System windows 10  \n",
    "Python version 3.9.12  \n",
    "Requests version 2.27.1  \n",
    "VS Code version 1.74.3  "
   ]
  },
  {
   "attachments": {},
   "cell_type": "markdown",
   "metadata": {},
   "source": [
    "# Getting a Transaction by ID"
   ]
  },
  {
   "cell_type": "code",
   "execution_count": null,
   "metadata": {},
   "outputs": [],
   "source": [
    "# Grabbed this transaction id off of flowscan.org\n",
    "example_transaction_id = \"c63d1b0c578454988827b778cc7c80467f498cf3c22d66d92a1e677f68e46555\""
   ]
  },
  {
   "cell_type": "markdown",
   "metadata": {},
   "source": [
    "The http endpoint for a GET request for a flow transaction is https://rest-mainnet.onflow.org/v1/transactions/{id}. We can find this in the flow docs https://developers.flow.com/http-api#tag/Transactions.\n",
    "\n",
    "The id in curly brackets {id} at the end of the link tells us that we need to put a transaction id in this position.\n",
    "\n",
    "If you type in https://rest-mainnet.onflow.org/v1/transactions/c63d1b0c578454988827b778cc7c80467f498cf3c22d66d92a1e677f68e46555 into your web browser, it will take you to a page that contains all the information about this transaction.\n",
    "\n",
    "The python \"requests\" package will give us the tools we need in order to retrieve this data."
   ]
  },
  {
   "cell_type": "code",
   "execution_count": null,
   "metadata": {},
   "outputs": [],
   "source": [
    "# Import the requests package\n",
    "import requests"
   ]
  },
  {
   "cell_type": "code",
   "execution_count": null,
   "metadata": {},
   "outputs": [],
   "source": [
    "# Save the address for the request with our example transaction id\n",
    "url = \"https://rest-mainnet.onflow.org/v1/transactions/{}\".format(example_transaction_id)\n",
    "print(url)"
   ]
  },
  {
   "cell_type": "code",
   "execution_count": null,
   "metadata": {},
   "outputs": [],
   "source": [
    "# Get the data from the url using the \"get\" function from the requests package\n",
    "response = requests.get(url)\n",
    "print(type(response), \"\\n\")\n",
    "print(response)"
   ]
  },
  {
   "cell_type": "markdown",
   "metadata": {},
   "source": [
    "We can see that our response variable comes as a python class type.\n",
    "\n",
    "We get a response 200, which is good. This means that the connection was successful. There are many other response codes. The full list of possible HTTP response codes can be found here at https://en.wikipedia.org/wiki/List_of_HTTP_status_codes.\n",
    "\n",
    "Now that we have the response saved, we can invoke its \"json\" function, which will conveniently give us the information we saw earlier on the web page, in the form of a python dictionary."
   ]
  },
  {
   "cell_type": "code",
   "execution_count": null,
   "metadata": {},
   "outputs": [],
   "source": [
    "# Get the data from the response\n",
    "data = response.json()\n",
    "print(type(data), \"\\n\")\n",
    "print(data)"
   ]
  },
  {
   "cell_type": "markdown",
   "metadata": {},
   "source": [
    "Now we can parse through this dictionary by indexing the keys and extract what we need out of it."
   ]
  },
  {
   "cell_type": "code",
   "execution_count": null,
   "metadata": {},
   "outputs": [],
   "source": [
    "print(data[\"id\"])"
   ]
  },
  {
   "cell_type": "code",
   "execution_count": null,
   "metadata": {},
   "outputs": [],
   "source": [
    "print(data[\"reference_block_id\"])"
   ]
  },
  {
   "cell_type": "code",
   "execution_count": null,
   "metadata": {},
   "outputs": [],
   "source": [
    "print(data[\"proposal_key\"])"
   ]
  },
  {
   "cell_type": "code",
   "execution_count": null,
   "metadata": {},
   "outputs": [],
   "source": [
    "print(data[\"proposal_key\"][\"address\"])"
   ]
  }
 ],
 "metadata": {
  "kernelspec": {
   "display_name": "Python 3.9.12 ('base')",
   "language": "python",
   "name": "python3"
  },
  "language_info": {
   "codemirror_mode": {
    "name": "ipython",
    "version": 3
   },
   "file_extension": ".py",
   "mimetype": "text/x-python",
   "name": "python",
   "nbconvert_exporter": "python",
   "pygments_lexer": "ipython3",
   "version": "3.9.12 (main, Apr  4 2022, 05:22:27) [MSC v.1916 64 bit (AMD64)]"
  },
  "orig_nbformat": 4,
  "vscode": {
   "interpreter": {
    "hash": "ad2bdc8ecc057115af97d19610ffacc2b4e99fae6737bb82f5d7fb13d2f2c186"
   }
  }
 },
 "nbformat": 4,
 "nbformat_minor": 2
}
